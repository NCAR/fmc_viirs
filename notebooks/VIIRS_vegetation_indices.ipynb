{
 "cells": [
  {
   "cell_type": "code",
   "execution_count": 1,
   "id": "19d8423c",
   "metadata": {},
   "outputs": [
    {
     "name": "stderr",
     "output_type": "stream",
     "text": [
      "2022-12-20 11:24:08.804202: I tensorflow/core/platform/cpu_feature_guard.cc:193] This TensorFlow binary is optimized with oneAPI Deep Neural Network Library (oneDNN) to use the following CPU instructions in performance-critical operations:  AVX2 AVX512F AVX512_VNNI FMA\n",
      "To enable them in other operations, rebuild TensorFlow with the appropriate compiler flags.\n",
      "2022-12-20 11:24:09.152137: I tensorflow/core/util/util.cc:169] oneDNN custom operations are on. You may see slightly different numerical results due to floating-point round-off errors from different computation orders. To turn them off, set the environment variable `TF_ENABLE_ONEDNN_OPTS=0`.\n",
      "2022-12-20 11:24:09.197356: E tensorflow/stream_executor/cuda/cuda_blas.cc:2981] Unable to register cuBLAS factory: Attempting to register factory for plugin cuBLAS when one has already been registered\n",
      "2022-12-20 11:24:11.337147: W tensorflow/stream_executor/platform/default/dso_loader.cc:64] Could not load dynamic library 'libnvinfer.so.7'; dlerror: libnvinfer.so.7: cannot open shared object file: No such file or directory; LD_LIBRARY_PATH: /glade/u/apps/dav/opt/cudnn/8.2.2.26/cuda/11.4.0/lib64:/glade/u/apps/dav/opt/cuda/11.4.0/extras/CUPTI/lib64:/glade/u/apps/dav/opt/cuda/11.4.0/lib64:/glade/u/apps/dav/opt/openmpi/4.1.1/gnu/10.1.0/lib:/glade/u/apps/dav/opt/ucx/1.11.0/lib:/glade/u/apps/dav/opt/gnu/10.1.0/lib64\n",
      "2022-12-20 11:24:11.337310: W tensorflow/stream_executor/platform/default/dso_loader.cc:64] Could not load dynamic library 'libnvinfer_plugin.so.7'; dlerror: libnvinfer_plugin.so.7: cannot open shared object file: No such file or directory; LD_LIBRARY_PATH: /glade/u/apps/dav/opt/cudnn/8.2.2.26/cuda/11.4.0/lib64:/glade/u/apps/dav/opt/cuda/11.4.0/extras/CUPTI/lib64:/glade/u/apps/dav/opt/cuda/11.4.0/lib64:/glade/u/apps/dav/opt/openmpi/4.1.1/gnu/10.1.0/lib:/glade/u/apps/dav/opt/ucx/1.11.0/lib:/glade/u/apps/dav/opt/gnu/10.1.0/lib64\n",
      "2022-12-20 11:24:11.337320: W tensorflow/compiler/tf2tensorrt/utils/py_utils.cc:38] TF-TRT Warning: Cannot dlopen some TensorRT libraries. If you would like to use Nvidia GPU with TensorRT, please make sure the missing libraries mentioned above are installed properly.\n"
     ]
    }
   ],
   "source": [
    "import logging, sys, yaml, random, os, numpy as np\n",
    "from fmcml.data import load_data, load_splitter\n",
    "from echo.src.base_objective import BaseObjective\n",
    "from sklearn.preprocessing import StandardScaler, QuantileTransformer\n",
    "from sklearn.metrics import mean_absolute_error, mean_squared_error, r2_score, mean_absolute_percentage_error\n",
    "from collections import defaultdict\n",
    "import xgboost as xgb\n",
    "import pandas as pd\n",
    "import tqdm, torch, shutil, os, joblib"
   ]
  },
  {
   "cell_type": "code",
   "execution_count": 5,
   "id": "cf29820d",
   "metadata": {},
   "outputs": [],
   "source": [
    "config = \"../results/live/echo_xgb/best.yml\"\n",
    "with open(config) as cf:\n",
    "    conf = yaml.load(cf, Loader=yaml.FullLoader)"
   ]
  },
  {
   "cell_type": "code",
   "execution_count": 14,
   "id": "7b6a8df9",
   "metadata": {},
   "outputs": [],
   "source": [
    "seed = conf[\"seed\"]\n",
    "\n",
    "save_loc = conf[\"save_loc\"]\n",
    "data_loc = conf[\"data_loc\"]\n",
    "#input_vars = conf[\"input_vars\"]\n",
    "total_input_vars = []\n",
    "if conf[\"use_nwm\"]:\n",
    "    total_input_vars += conf[\"nwm_vars\"]\n",
    "if conf[\"use_sat\"]:\n",
    "    total_input_vars += conf[\"sat_vars\"]\n",
    "if conf[\"use_static\"]:\n",
    "    total_input_vars += conf[\"static_vars\"]\n",
    "if conf[\"use_hrrr\"]:\n",
    "    total_input_vars += conf[\"hrrr_vars\"]\n",
    "if conf[\"use_lst\"]:\n",
    "    total_input_vars += conf[\"lst_vars\"]\n",
    "\n",
    "if len(total_input_vars) == 0:\n",
    "    if trial is not False:\n",
    "        raise optuna.TrialPruned()\n",
    "    else:\n",
    "        raise OSError(\n",
    "            \"ECHO suggested no input columns, sigaling to prune this trial\")\n",
    "\n",
    "#static_vars = conf[\"static_vars\"]\n",
    "output_vars = conf[\"output_vars\"]\n",
    "verbose = conf[\"verbose\"]\n",
    "#total_input_vars = input_vars + static_vars\n",
    "splitter = conf[\"split_type\"]\n",
    "\n",
    "# model config\n",
    "n_splits = conf[\"model\"][\"n_splits\"]\n",
    "objective = conf[\"model\"][\"objective\"]\n",
    "learning_rate = conf[\"model\"][\"learning_rate\"]\n",
    "n_estimators = conf[\"model\"][\"n_estimators\"]\n",
    "max_depth = conf[\"model\"][\"max_depth\"]\n",
    "n_jobs = conf[\"model\"][\"n_jobs\"]\n",
    "colsample_bytree = conf[\"model\"][\"colsample_bytree\"]\n",
    "gamma = conf[\"model\"][\"gamma\"]\n",
    "learning_rate = conf[\"model\"][\"learning_rate\"]\n",
    "max_depth = conf[\"model\"][\"max_depth\"]\n",
    "subsample = conf[\"model\"][\"subsample\"]\n",
    "metric = conf[\"model\"][\"metric\"]\n",
    "\n",
    "# Load the data frame with filtered columns \n",
    "if \"csv\" in data_loc:\n",
    "    df = pd.read_csv(data_loc)\n",
    "    filter_nans = []\n",
    "    if isinstance(total_input_vars, list):\n",
    "        filter_nans += total_input_vars\n",
    "    if isinstance(output_vars, list):\n",
    "        filter_nans += output_vars\n",
    "    if len(filter_nans):\n",
    "        if verbose: \n",
    "            logging.info(f\"Starting df size: {df.shape}\")\n",
    "            logging.info(f\"Filtering NaNs from columns: {filter_nans}\")\n",
    "        filter_condition = df[filter_nans].isna().sum(axis=1).astype(bool)\n",
    "        df = df[~filter_condition].copy()\n",
    "        logging.info(f\"Training df size after removing NaNs: {df.shape}\")\n",
    "else:\n",
    "    df = load_data(\n",
    "        data_loc,\n",
    "        verbose = verbose,\n",
    "        filter_input_vars = total_input_vars, \n",
    "        filter_output_vars = output_vars\n",
    "    )"
   ]
  },
  {
   "cell_type": "code",
   "execution_count": null,
   "id": "27c98044",
   "metadata": {},
   "outputs": [],
   "source": [
    "def vegetatation_indices(df):\n",
    "    # Normalized difference vegetation index\n",
    "    df[\"ndvi\"] = (df[\"375m Surface Reflectance Band I2_medium\"] - df[\"375m Surface Reflectance Band I1_medium\"]) \n",
    "    df[\"ndvi\"] /= (df[\"375m Surface Reflectance Band I2_medium\"] + df[\"375m Surface Reflectance Band I1_medium\"]) \n",
    "    # Normalized difference water index\n",
    "    df[\"ndwi_1\"] = (df[\"375m Surface Reflectance Band I2_medium\"] - df[\"750m Surface Reflectance Band M8_medium\"])\n",
    "    df[\"ndwi_1\"] /= (df[\"375m Surface Reflectance Band I2_medium\"] + df[\"750m Surface Reflectance Band M8_medium\"])\n",
    "    df[\"ndwi_2\"] = (df[\"750m Surface Reflectance Band M7_medium\"] - df[\"750m Surface Reflectance Band M8_medium\"]) \n",
    "    df[\"ndwi_2\"] /= (df[\"750m Surface Reflectance Band M7_medium\"] + df[\"750m Surface Reflectance Band M8_medium\"])\n",
    "    # Normalized difference Infrared index\n",
    "    #df[\"ndii_1\"] = (df[\"750m Surface Reflectance Band M6_medium\"] - df[\"750m Surface Reflectance Band M10_medium\"])\n",
    "    #df[\"ndii_1\"] /= (df[\"750m Surface Reflectance Band M6_medium\"] + df[\"750m Surface Reflectance Band M10_medium\"])\n",
    "    df[\"ndii_2\"] = (df[\"750m Surface Reflectance Band M7_medium\"] - df[\"750m Surface Reflectance Band M10_medium\"])\n",
    "    df[\"ndii_2\"] /= (df[\"750m Surface Reflectance Band M7_medium\"] + df[\"750m Surface Reflectance Band M10_medium\"])\n",
    "    # Enhanced Vegetation Index\n",
    "    df[\"evi\"] = 2.5 * (df['375m Surface Reflectance Band I2_medium'] - df['375m Surface Reflectance Band I1_medium'])\n",
    "    df[\"evi\"] /= (df['375m Surface Reflectance Band I2_medium'] + 6 * df['375m Surface Reflectance Band I1_medium'] - 7.5 * df['750m Surface Reflectance Band M3_medium'] + 1)\n",
    "    # Normalized difference tillage index\n",
    "    df[\"ndti\"] = (df[\"750m Surface Reflectance Band M10_medium\"] - df[\"750m Surface Reflectance Band M11_medium\"]) \n",
    "    df[\"ndti\"] /= (df[\"750m Surface Reflectance Band M10_medium\"] + df[\"750m Surface Reflectance Band M11_medium\"]) \n",
    "    # Visible Atmospherically Resistant Index\n",
    "    df[\"vari_1\"] = (df[\"750m Surface Reflectance Band M4_medium\"] - df[\"375m Surface Reflectance Band I1_medium\"]) \n",
    "    df[\"vari_1\"] /= (df[\"750m Surface Reflectance Band M4_medium\"] + df[\"375m Surface Reflectance Band I1_medium\"] - df[\"750m Surface Reflectance Band M3_medium\"])\n",
    "    df[\"vari_2\"] = (df[\"750m Surface Reflectance Band M4_medium\"] - df[\"750m Surface Reflectance Band M5_medium\"])\n",
    "    df[\"vari_2\"] /= (df[\"750m Surface Reflectance Band M4_medium\"] + df[\"750m Surface Reflectance Band M5_medium\"] - df[\"750m Surface Reflectance Band M3_medium\"])\n",
    "    # Global Environmental Monitoring Index\n",
    "    I1 = df[\"375m Surface Reflectance Band I1_medium\"]\n",
    "    I2 = df[\"375m Surface Reflectance Band I2_medium\"]\n",
    "    eta = 2*(2*(I2**2 - I1**2) + 1.5 * I2 + 0.5 * I1) / (I2 + I1 + 0.5)\n",
    "    df[\"gemi\"] = eta * (1-0.25 * eta) - (I1 - 0.125) / (1-I1)\n",
    "    # Moisture Stress Index\n",
    "    df[\"msi_1\"] = df[\"375m Surface Reflectance Band I3_medium\"] / df[\"375m Surface Reflectance Band I2_medium\"]\n",
    "    df[\"msi_2\"] = df[\"375m Surface Reflectance Band I3_medium\"] / df[\"750m Surface Reflectance Band M7_medium\"]\n",
    "    # Normalized multiband drought index\n",
    "    I3 = df[\"375m Surface Reflectance Band I3_medium\"]\n",
    "    M11 = df[\"750m Surface Reflectance Band M7_medium\"]\n",
    "    df[\"nmdi\"] = (I2 - (I3 - M11)) / (I2 + (I3 - M11))\n",
    "    \n",
    "    veg_group = [\n",
    "        'ndvi', 'ndwi_1', 'ndwi_2', 'ndii_2', \n",
    "        'evi', 'ndti', 'vari_1', 'vari_2', \n",
    "        'gemi', 'msi_1', 'msi_2', 'nmdi'\n",
    "    ]\n",
    "    \n",
    "    return df, veg_group"
   ]
  },
  {
   "cell_type": "code",
   "execution_count": 30,
   "id": "12953870",
   "metadata": {},
   "outputs": [],
   "source": [
    "# Normalized difference vegetation index\n",
    "df[\"ndvi\"] = (df[\"375m Surface Reflectance Band I2_medium\"] - df[\"375m Surface Reflectance Band I1_medium\"]) \n",
    "df[\"ndvi\"] /= (df[\"375m Surface Reflectance Band I2_medium\"] + df[\"375m Surface Reflectance Band I1_medium\"]) "
   ]
  },
  {
   "cell_type": "code",
   "execution_count": 31,
   "id": "5bd98621",
   "metadata": {},
   "outputs": [],
   "source": [
    "# Normalized difference water index\n",
    "df[\"ndwi_1\"] = (df[\"375m Surface Reflectance Band I2_medium\"] - df[\"750m Surface Reflectance Band M8_medium\"])\n",
    "df[\"ndwi_1\"] /= (df[\"375m Surface Reflectance Band I2_medium\"] + df[\"750m Surface Reflectance Band M8_medium\"])\n",
    "df[\"ndwi_2\"] = (df[\"750m Surface Reflectance Band M7_medium\"] - df[\"750m Surface Reflectance Band M8_medium\"]) \n",
    "df[\"ndwi_2\"] /= (df[\"750m Surface Reflectance Band M7_medium\"] + df[\"750m Surface Reflectance Band M8_medium\"])"
   ]
  },
  {
   "cell_type": "code",
   "execution_count": 32,
   "id": "ac29b05e",
   "metadata": {},
   "outputs": [],
   "source": [
    "# Normalized difference Infrared index\n",
    "#df[\"ndii_1\"] = (df[\"750m Surface Reflectance Band M6_medium\"] - df[\"750m Surface Reflectance Band M10_medium\"])\n",
    "#df[\"ndii_1\"] /= (df[\"750m Surface Reflectance Band M6_medium\"] + df[\"750m Surface Reflectance Band M10_medium\"])\n",
    "df[\"ndii_2\"] = (df[\"750m Surface Reflectance Band M7_medium\"] - df[\"750m Surface Reflectance Band M10_medium\"])\n",
    "df[\"ndii_2\"] /= (df[\"750m Surface Reflectance Band M7_medium\"] + df[\"750m Surface Reflectance Band M10_medium\"])"
   ]
  },
  {
   "cell_type": "code",
   "execution_count": 33,
   "id": "b4accb92",
   "metadata": {},
   "outputs": [],
   "source": [
    "# Enhanced Vegetation Index\n",
    "df[\"evi\"] = 2.5 * (df['375m Surface Reflectance Band I2_medium'] - df['375m Surface Reflectance Band I1_medium'])\n",
    "df[\"evi\"] /= (df['375m Surface Reflectance Band I2_medium'] + 6 * df['375m Surface Reflectance Band I1_medium'] - 7.5 * df['750m Surface Reflectance Band M3_medium'] + 1)"
   ]
  },
  {
   "cell_type": "code",
   "execution_count": 34,
   "id": "42e784fa",
   "metadata": {},
   "outputs": [],
   "source": [
    "# Normalized difference tillage index\n",
    "df[\"ndti\"] = (df[\"750m Surface Reflectance Band M10_medium\"] - df[\"750m Surface Reflectance Band M11_medium\"]) \n",
    "df[\"ndti\"] /= (df[\"750m Surface Reflectance Band M10_medium\"] + df[\"750m Surface Reflectance Band M11_medium\"]) "
   ]
  },
  {
   "cell_type": "code",
   "execution_count": 35,
   "id": "734a1520",
   "metadata": {},
   "outputs": [],
   "source": [
    "# Visible Atmospherically Resistant Index\n",
    "df[\"vari_1\"] = (df[\"750m Surface Reflectance Band M4_medium\"] - df[\"375m Surface Reflectance Band I1_medium\"]) \n",
    "df[\"vari_1\"] /= (df[\"750m Surface Reflectance Band M4_medium\"] + df[\"375m Surface Reflectance Band I1_medium\"] - df[\"750m Surface Reflectance Band M3_medium\"])\n",
    "df[\"vari_2\"] = (df[\"750m Surface Reflectance Band M4_medium\"] - df[\"750m Surface Reflectance Band M5_medium\"])\n",
    "df[\"vari_2\"] /= (df[\"750m Surface Reflectance Band M4_medium\"] + df[\"750m Surface Reflectance Band M5_medium\"] - df[\"750m Surface Reflectance Band M3_medium\"])"
   ]
  },
  {
   "cell_type": "code",
   "execution_count": 36,
   "id": "b74a7ce5",
   "metadata": {},
   "outputs": [],
   "source": [
    "# Global Environmental Monitoring Index\n",
    "I1 = df[\"375m Surface Reflectance Band I1_medium\"]\n",
    "I2 = df[\"375m Surface Reflectance Band I2_medium\"]\n",
    "eta = 2*(2*(I2**2 - I1**2) + 1.5 * I2 + 0.5 * I1) / (I2 + I1 + 0.5)\n",
    "df[\"gemi\"] = eta * (1-0.25 * eta) - (I1 - 0.125) / (1-I1)"
   ]
  },
  {
   "cell_type": "code",
   "execution_count": 37,
   "id": "6b428c92",
   "metadata": {},
   "outputs": [],
   "source": [
    "# Moisture Stress Index\n",
    "df[\"msi_1\"] = df[\"375m Surface Reflectance Band I3_medium\"] / df[\"375m Surface Reflectance Band I2_medium\"]\n",
    "df[\"msi_2\"] = df[\"375m Surface Reflectance Band I3_medium\"] / df[\"750m Surface Reflectance Band M7_medium\"]"
   ]
  },
  {
   "cell_type": "code",
   "execution_count": 38,
   "id": "1d7d8e60",
   "metadata": {},
   "outputs": [],
   "source": [
    "# Normalized multiband drought index\n",
    "I3 = df[\"375m Surface Reflectance Band I3_medium\"]\n",
    "M11 = df[\"750m Surface Reflectance Band M7_medium\"]\n",
    "df[\"nmdi\"] = (I2 - (I3 - M11)) / (I2 + (I3 - M11))"
   ]
  },
  {
   "cell_type": "code",
   "execution_count": 42,
   "id": "c92b6371",
   "metadata": {},
   "outputs": [],
   "source": [
    "veg_group = [\n",
    "    'ndvi', 'ndwi_1', 'ndwi_2', 'ndii_2', \n",
    "    'evi', 'ndti', 'vari_1', 'vari_2', \n",
    "    'gemi', 'msi_1', 'msi_2', 'nmdi'\n",
    "]"
   ]
  },
  {
   "cell_type": "code",
   "execution_count": null,
   "id": "6939808b",
   "metadata": {},
   "outputs": [],
   "source": []
  }
 ],
 "metadata": {
  "kernelspec": {
   "display_name": "py37",
   "language": "python",
   "name": "py37"
  },
  "language_info": {
   "codemirror_mode": {
    "name": "ipython",
    "version": 3
   },
   "file_extension": ".py",
   "mimetype": "text/x-python",
   "name": "python",
   "nbconvert_exporter": "python",
   "pygments_lexer": "ipython3",
   "version": "3.7.5"
  }
 },
 "nbformat": 4,
 "nbformat_minor": 5
}
